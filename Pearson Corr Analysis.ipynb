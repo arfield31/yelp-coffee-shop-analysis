{
 "cells": [
  {
   "cell_type": "code",
   "execution_count": 3,
   "metadata": {},
   "outputs": [],
   "source": [
    "import pandas as pd\n",
    "import numpy as np\n",
    "import json\n",
    "from pandasql import sqldf\n",
    "pysqldf = lambda q: sqldf(q, globals())\n",
    "import matplotlib.pyplot as plt\n",
    "import seaborn as sb\n",
    "import nltk\n",
    "from nltk.corpus import stopwords\n",
    "from collections import Counter"
   ]
  },
  {
   "cell_type": "code",
   "execution_count": 4,
   "metadata": {},
   "outputs": [],
   "source": [
    "business_df = pd.read_json('yelp_business.json',lines=True)"
   ]
  },
  {
   "cell_type": "code",
   "execution_count": 5,
   "metadata": {},
   "outputs": [],
   "source": [
    "coffee_df = business_df[business_df['categories'].str.contains('Coffee')==True]"
   ]
  },
  {
   "cell_type": "code",
   "execution_count": 6,
   "metadata": {},
   "outputs": [],
   "source": [
    "def get_has_tv(d):\n",
    "    if type(d) == dict:\n",
    "        if 'HasTV' in d.keys():\n",
    "            if 'None' in d['HasTV']:\n",
    "                return False\n",
    "            if 'False' in d['HasTV']:\n",
    "                return False\n",
    "            if 'True' in d['HasTV']:\n",
    "                return True\n",
    "    return 'Unknown'"
   ]
  },
  {
   "cell_type": "code",
   "execution_count": 7,
   "metadata": {},
   "outputs": [],
   "source": [
    "coffee_df['has_tv']=coffee_df['attributes'].apply(get_has_tv)"
   ]
  },
  {
   "cell_type": "code",
   "execution_count": 8,
   "metadata": {},
   "outputs": [],
   "source": [
    "coffee_df= coffee_df[~(coffee_df['has_tv']=='Unknown')]"
   ]
  },
  {
   "cell_type": "code",
   "execution_count": 9,
   "metadata": {},
   "outputs": [
    {
     "data": {
      "text/plain": [
       "array([False, True], dtype=object)"
      ]
     },
     "execution_count": 9,
     "metadata": {},
     "output_type": "execute_result"
    }
   ],
   "source": [
    "coffee_df['has_tv'].unique()"
   ]
  },
  {
   "cell_type": "code",
   "execution_count": 10,
   "metadata": {},
   "outputs": [],
   "source": [
    "coffee_df['has_tv']=coffee_df['has_tv'].astype(bool)"
   ]
  },
  {
   "cell_type": "code",
   "execution_count": 11,
   "metadata": {},
   "outputs": [],
   "source": [
    "def get_price_range(d):\n",
    "    if type(d) == dict:\n",
    "        if 'RestaurantsPriceRange2' in d.keys():\n",
    "            '''if d['RestaurantsPriceRange2'] == '1':\n",
    "                return '$'\n",
    "            if d['RestaurantsPriceRange2'] == '2':\n",
    "                return '$$'\n",
    "            if d['RestaurantsPriceRange2'] == '3':\n",
    "                return '$$$'\n",
    "            if d['RestaurantsPriceRange2'] == '4':\n",
    "                return '$$$$'\n",
    "            if d['RestaurantsPriceRange2'] == '5':\n",
    "                return '$$$$$'''\n",
    "            return d['RestaurantsPriceRange2']\n",
    "            \n",
    "    return 'Unknown'\n",
    "    "
   ]
  },
  {
   "cell_type": "code",
   "execution_count": 12,
   "metadata": {},
   "outputs": [],
   "source": [
    "coffee_df['price_range']=coffee_df['attributes'].apply(get_price_range)"
   ]
  },
  {
   "cell_type": "code",
   "execution_count": 13,
   "metadata": {},
   "outputs": [],
   "source": [
    "coffee_df['price_range'] = np.where((coffee_df.price_range == 'None'),'Unknown',coffee_df.price_range)"
   ]
  },
  {
   "cell_type": "code",
   "execution_count": 14,
   "metadata": {},
   "outputs": [
    {
     "data": {
      "text/plain": [
       "array(['2', '1', 'Unknown', '3', '4'], dtype=object)"
      ]
     },
     "execution_count": 14,
     "metadata": {},
     "output_type": "execute_result"
    }
   ],
   "source": [
    "coffee_df['price_range'].unique()"
   ]
  },
  {
   "cell_type": "code",
   "execution_count": 15,
   "metadata": {},
   "outputs": [],
   "source": [
    "coffee_df= coffee_df[~(coffee_df['price_range']=='Unknown')]"
   ]
  },
  {
   "cell_type": "code",
   "execution_count": 16,
   "metadata": {},
   "outputs": [
    {
     "data": {
      "text/plain": [
       "array(['2', '1', '3', '4'], dtype=object)"
      ]
     },
     "execution_count": 16,
     "metadata": {},
     "output_type": "execute_result"
    }
   ],
   "source": [
    "coffee_df['price_range'].unique()"
   ]
  },
  {
   "cell_type": "code",
   "execution_count": 17,
   "metadata": {},
   "outputs": [],
   "source": [
    "coffee_df['price_range']=coffee_df['price_range'].astype(int)"
   ]
  },
  {
   "cell_type": "code",
   "execution_count": 18,
   "metadata": {},
   "outputs": [
    {
     "data": {
      "text/plain": [
       "array([2, 1, 3, 4])"
      ]
     },
     "execution_count": 18,
     "metadata": {},
     "output_type": "execute_result"
    }
   ],
   "source": [
    "coffee_df['price_range'].unique()"
   ]
  },
  {
   "cell_type": "code",
   "execution_count": 19,
   "metadata": {},
   "outputs": [],
   "source": [
    "def get_wifi(d):\n",
    "    if type(d) == dict:\n",
    "        if 'WiFi' in d.keys():\n",
    "            #return d['WiFi']\n",
    "            if 'free' in d['WiFi']:\n",
    "                return 2\n",
    "            if 'paid' in d['WiFi']:\n",
    "                return 1\n",
    "            if 'no' in d['WiFi']:\n",
    "                return 0\n",
    "            if 'None' in d['WiFi']:\n",
    "                return 0\n",
    "    return 'Unknown'"
   ]
  },
  {
   "cell_type": "code",
   "execution_count": 20,
   "metadata": {},
   "outputs": [],
   "source": [
    "coffee_df['wifi']=coffee_df['attributes'].apply(get_wifi)"
   ]
  },
  {
   "cell_type": "code",
   "execution_count": 21,
   "metadata": {},
   "outputs": [
    {
     "data": {
      "text/plain": [
       "array([2, 0, 'Unknown', 1], dtype=object)"
      ]
     },
     "execution_count": 21,
     "metadata": {},
     "output_type": "execute_result"
    }
   ],
   "source": [
    "coffee_df['wifi'].unique()"
   ]
  },
  {
   "cell_type": "code",
   "execution_count": 22,
   "metadata": {},
   "outputs": [],
   "source": [
    "coffee_df= coffee_df[~(coffee_df['wifi']=='Unknown')]"
   ]
  },
  {
   "cell_type": "code",
   "execution_count": 23,
   "metadata": {},
   "outputs": [],
   "source": [
    "coffee_df['wifi']=coffee_df['wifi'].astype(int)"
   ]
  },
  {
   "cell_type": "code",
   "execution_count": 24,
   "metadata": {},
   "outputs": [
    {
     "data": {
      "text/plain": [
       "array([2, 0, 1])"
      ]
     },
     "execution_count": 24,
     "metadata": {},
     "output_type": "execute_result"
    }
   ],
   "source": [
    "coffee_df['wifi'].unique()"
   ]
  },
  {
   "cell_type": "code",
   "execution_count": 25,
   "metadata": {},
   "outputs": [],
   "source": [
    "def get_outdoor_seating(d):\n",
    "    if type(d) == dict:\n",
    "        if 'OutdoorSeating' in d.keys():\n",
    "            if 'True' in d['OutdoorSeating']:\n",
    "                return True\n",
    "            if 'False' in d['OutdoorSeating']:\n",
    "                return False\n",
    "            if 'None' in d['OutdoorSeating']:\n",
    "                return False\n",
    "    return 'Unknown'"
   ]
  },
  {
   "cell_type": "code",
   "execution_count": 26,
   "metadata": {},
   "outputs": [],
   "source": [
    "coffee_df['outdoor_seating']=coffee_df['attributes'].apply(get_outdoor_seating)"
   ]
  },
  {
   "cell_type": "code",
   "execution_count": 27,
   "metadata": {},
   "outputs": [],
   "source": [
    "coffee_df= coffee_df[~(coffee_df['outdoor_seating']=='Unknown')]"
   ]
  },
  {
   "cell_type": "code",
   "execution_count": 28,
   "metadata": {},
   "outputs": [
    {
     "data": {
      "text/plain": [
       "array([False, True], dtype=object)"
      ]
     },
     "execution_count": 28,
     "metadata": {},
     "output_type": "execute_result"
    }
   ],
   "source": [
    "coffee_df['outdoor_seating'].unique()"
   ]
  },
  {
   "cell_type": "code",
   "execution_count": 29,
   "metadata": {},
   "outputs": [],
   "source": [
    "coffee_df['outdoor_seating']=coffee_df['outdoor_seating'].astype(bool)"
   ]
  },
  {
   "cell_type": "code",
   "execution_count": 30,
   "metadata": {},
   "outputs": [
    {
     "data": {
      "text/plain": [
       "array([False,  True])"
      ]
     },
     "execution_count": 30,
     "metadata": {},
     "output_type": "execute_result"
    }
   ],
   "source": [
    "coffee_df['outdoor_seating'].unique()"
   ]
  },
  {
   "cell_type": "code",
   "execution_count": 31,
   "metadata": {},
   "outputs": [
    {
     "data": {
      "text/html": [
       "<div>\n",
       "<style scoped>\n",
       "    .dataframe tbody tr th:only-of-type {\n",
       "        vertical-align: middle;\n",
       "    }\n",
       "\n",
       "    .dataframe tbody tr th {\n",
       "        vertical-align: top;\n",
       "    }\n",
       "\n",
       "    .dataframe thead th {\n",
       "        text-align: right;\n",
       "    }\n",
       "</style>\n",
       "<table border=\"1\" class=\"dataframe\">\n",
       "  <thead>\n",
       "    <tr style=\"text-align: right;\">\n",
       "      <th></th>\n",
       "      <th>business_id</th>\n",
       "      <th>name</th>\n",
       "      <th>address</th>\n",
       "      <th>city</th>\n",
       "      <th>state</th>\n",
       "      <th>postal_code</th>\n",
       "      <th>latitude</th>\n",
       "      <th>longitude</th>\n",
       "      <th>stars</th>\n",
       "      <th>review_count</th>\n",
       "      <th>is_open</th>\n",
       "      <th>attributes</th>\n",
       "      <th>categories</th>\n",
       "      <th>hours</th>\n",
       "      <th>has_tv</th>\n",
       "      <th>price_range</th>\n",
       "      <th>wifi</th>\n",
       "      <th>outdoor_seating</th>\n",
       "    </tr>\n",
       "  </thead>\n",
       "  <tbody>\n",
       "    <tr>\n",
       "      <th>20</th>\n",
       "      <td>WKMJwqnfZKsAae75RMP6jA</td>\n",
       "      <td>Roast Coffeehouse and Wine Bar</td>\n",
       "      <td>10359 104 Street NW</td>\n",
       "      <td>Edmonton</td>\n",
       "      <td>AB</td>\n",
       "      <td>T5J 1B9</td>\n",
       "      <td>53.546045</td>\n",
       "      <td>-113.499169</td>\n",
       "      <td>4.0</td>\n",
       "      <td>40</td>\n",
       "      <td>0</td>\n",
       "      <td>{'OutdoorSeating': 'False', 'Caters': 'True', ...</td>\n",
       "      <td>Coffee &amp; Tea, Food, Cafes, Bars, Wine Bars, Re...</td>\n",
       "      <td>{'Monday': '8:0-18:0', 'Tuesday': '8:0-18:0', ...</td>\n",
       "      <td>False</td>\n",
       "      <td>2</td>\n",
       "      <td>2</td>\n",
       "      <td>False</td>\n",
       "    </tr>\n",
       "    <tr>\n",
       "      <th>46</th>\n",
       "      <td>JX4tUpd09YFchLBuI43lGw</td>\n",
       "      <td>Naked Cyber Cafe &amp; Espresso Bar</td>\n",
       "      <td>10303  108 Street NW</td>\n",
       "      <td>Edmonton</td>\n",
       "      <td>AB</td>\n",
       "      <td>T5J 1L7</td>\n",
       "      <td>53.544682</td>\n",
       "      <td>-113.506589</td>\n",
       "      <td>4.0</td>\n",
       "      <td>12</td>\n",
       "      <td>1</td>\n",
       "      <td>{'OutdoorSeating': 'False', 'BusinessParking':...</td>\n",
       "      <td>Arts &amp; Entertainment, Music Venues, Internet S...</td>\n",
       "      <td>{'Monday': '11:0-1:0', 'Tuesday': '11:0-1:0', ...</td>\n",
       "      <td>False</td>\n",
       "      <td>2</td>\n",
       "      <td>2</td>\n",
       "      <td>False</td>\n",
       "    </tr>\n",
       "    <tr>\n",
       "      <th>47</th>\n",
       "      <td>lk9IwjZXqUMqqOhM774DtQ</td>\n",
       "      <td>Caviar &amp; Bananas</td>\n",
       "      <td>2031 Broadway</td>\n",
       "      <td>Nashville</td>\n",
       "      <td>TN</td>\n",
       "      <td>37203</td>\n",
       "      <td>36.148371</td>\n",
       "      <td>-86.798895</td>\n",
       "      <td>3.5</td>\n",
       "      <td>159</td>\n",
       "      <td>0</td>\n",
       "      <td>{'RestaurantsTakeOut': 'True', 'RestaurantsRes...</td>\n",
       "      <td>Coffee &amp; Tea, Restaurants, Wine Bars, Bars, Ni...</td>\n",
       "      <td>{'Monday': '7:0-17:0', 'Tuesday': '7:0-17:0', ...</td>\n",
       "      <td>False</td>\n",
       "      <td>2</td>\n",
       "      <td>2</td>\n",
       "      <td>True</td>\n",
       "    </tr>\n",
       "    <tr>\n",
       "      <th>53</th>\n",
       "      <td>cVBxfMC4lp3DnocjYA3FHQ</td>\n",
       "      <td>Paws The Cat Cafe</td>\n",
       "      <td>10588 109 Street</td>\n",
       "      <td>Edmonton</td>\n",
       "      <td>AB</td>\n",
       "      <td>T5H 3B2</td>\n",
       "      <td>53.549633</td>\n",
       "      <td>-113.508780</td>\n",
       "      <td>5.0</td>\n",
       "      <td>20</td>\n",
       "      <td>0</td>\n",
       "      <td>{'RestaurantsAttire': ''casual'', 'Restaurants...</td>\n",
       "      <td>Coffee &amp; Tea, Cafes, Pets, Restaurants, Pet Ad...</td>\n",
       "      <td>{'Monday': '0:0-0:0', 'Tuesday': '10:0-21:0', ...</td>\n",
       "      <td>False</td>\n",
       "      <td>1</td>\n",
       "      <td>2</td>\n",
       "      <td>False</td>\n",
       "    </tr>\n",
       "    <tr>\n",
       "      <th>82</th>\n",
       "      <td>ppFCk9aQkM338Rgwpl2F5A</td>\n",
       "      <td>Wawa</td>\n",
       "      <td>3604 Chestnut St</td>\n",
       "      <td>Philadelphia</td>\n",
       "      <td>PA</td>\n",
       "      <td>19104</td>\n",
       "      <td>39.954573</td>\n",
       "      <td>-75.194894</td>\n",
       "      <td>3.0</td>\n",
       "      <td>56</td>\n",
       "      <td>1</td>\n",
       "      <td>{'Alcohol': 'u'none'', 'RestaurantsGoodForGrou...</td>\n",
       "      <td>Restaurants, Automotive, Delis, Gas Stations, ...</td>\n",
       "      <td>{'Monday': '0:0-0:0', 'Tuesday': '0:0-0:0', 'W...</td>\n",
       "      <td>True</td>\n",
       "      <td>1</td>\n",
       "      <td>2</td>\n",
       "      <td>False</td>\n",
       "    </tr>\n",
       "    <tr>\n",
       "      <th>...</th>\n",
       "      <td>...</td>\n",
       "      <td>...</td>\n",
       "      <td>...</td>\n",
       "      <td>...</td>\n",
       "      <td>...</td>\n",
       "      <td>...</td>\n",
       "      <td>...</td>\n",
       "      <td>...</td>\n",
       "      <td>...</td>\n",
       "      <td>...</td>\n",
       "      <td>...</td>\n",
       "      <td>...</td>\n",
       "      <td>...</td>\n",
       "      <td>...</td>\n",
       "      <td>...</td>\n",
       "      <td>...</td>\n",
       "      <td>...</td>\n",
       "      <td>...</td>\n",
       "    </tr>\n",
       "    <tr>\n",
       "      <th>150169</th>\n",
       "      <td>izSgTrqebu8bN8ONOCs6cQ</td>\n",
       "      <td>Oat Bakery</td>\n",
       "      <td>5 W Haley St</td>\n",
       "      <td>Santa Barbara</td>\n",
       "      <td>CA</td>\n",
       "      <td>93101</td>\n",
       "      <td>34.416548</td>\n",
       "      <td>-119.695626</td>\n",
       "      <td>5.0</td>\n",
       "      <td>123</td>\n",
       "      <td>1</td>\n",
       "      <td>{'Alcohol': 'u'none'', 'HasTV': 'False', 'Bike...</td>\n",
       "      <td>Bakeries, Vegan, Specialty Food, Food Delivery...</td>\n",
       "      <td>{'Monday': '0:0-0:0', 'Tuesday': '9:0-18:0', '...</td>\n",
       "      <td>False</td>\n",
       "      <td>1</td>\n",
       "      <td>0</td>\n",
       "      <td>False</td>\n",
       "    </tr>\n",
       "    <tr>\n",
       "      <th>150254</th>\n",
       "      <td>Ld3qgGua7MqrFnZY8AIo0A</td>\n",
       "      <td>Café Ventana</td>\n",
       "      <td>3919 W Pine Blvd</td>\n",
       "      <td>Saint Louis</td>\n",
       "      <td>MO</td>\n",
       "      <td>63108</td>\n",
       "      <td>38.638030</td>\n",
       "      <td>-90.242133</td>\n",
       "      <td>3.5</td>\n",
       "      <td>290</td>\n",
       "      <td>0</td>\n",
       "      <td>{'RestaurantsGoodForGroups': 'True', 'Alcohol'...</td>\n",
       "      <td>Food, Breakfast &amp; Brunch, Cajun/Creole, Restau...</td>\n",
       "      <td>{'Monday': '7:0-20:0', 'Tuesday': '7:0-20:0', ...</td>\n",
       "      <td>False</td>\n",
       "      <td>2</td>\n",
       "      <td>2</td>\n",
       "      <td>True</td>\n",
       "    </tr>\n",
       "    <tr>\n",
       "      <th>150261</th>\n",
       "      <td>Y0TWCjiiXlFi2XO2cFrUzQ</td>\n",
       "      <td>Connexxions Cafe</td>\n",
       "      <td>12644 137 Avenue NW</td>\n",
       "      <td>Edmonton</td>\n",
       "      <td>AB</td>\n",
       "      <td>T5L 4Y5</td>\n",
       "      <td>53.600573</td>\n",
       "      <td>-113.540273</td>\n",
       "      <td>4.5</td>\n",
       "      <td>13</td>\n",
       "      <td>0</td>\n",
       "      <td>{'RestaurantsReservations': 'True', 'Alcohol':...</td>\n",
       "      <td>Hobby Shops, Tabletop Games, Coffee &amp; Tea, Foo...</td>\n",
       "      <td>None</td>\n",
       "      <td>True</td>\n",
       "      <td>2</td>\n",
       "      <td>2</td>\n",
       "      <td>False</td>\n",
       "    </tr>\n",
       "    <tr>\n",
       "      <th>150319</th>\n",
       "      <td>8n93L-ilMAsvwUatarykSg</td>\n",
       "      <td>Kitchen Gia</td>\n",
       "      <td>3716 Spruce St</td>\n",
       "      <td>Philadelphia</td>\n",
       "      <td>PA</td>\n",
       "      <td>19104</td>\n",
       "      <td>39.951018</td>\n",
       "      <td>-75.198240</td>\n",
       "      <td>3.0</td>\n",
       "      <td>22</td>\n",
       "      <td>0</td>\n",
       "      <td>{'RestaurantsGoodForGroups': 'True', 'BikePark...</td>\n",
       "      <td>Coffee &amp; Tea, Food, Sandwiches, American (Trad...</td>\n",
       "      <td>{'Monday': '9:0-19:30', 'Tuesday': '9:0-19:30'...</td>\n",
       "      <td>True</td>\n",
       "      <td>2</td>\n",
       "      <td>2</td>\n",
       "      <td>True</td>\n",
       "    </tr>\n",
       "    <tr>\n",
       "      <th>150327</th>\n",
       "      <td>cM6V90ExQD6KMSU3rRB5ZA</td>\n",
       "      <td>Dutch Bros Coffee</td>\n",
       "      <td>1181 N Milwaukee St</td>\n",
       "      <td>Boise</td>\n",
       "      <td>ID</td>\n",
       "      <td>83704</td>\n",
       "      <td>43.615401</td>\n",
       "      <td>-116.284689</td>\n",
       "      <td>4.0</td>\n",
       "      <td>33</td>\n",
       "      <td>1</td>\n",
       "      <td>{'WiFi': ''free'', 'RestaurantsGoodForGroups':...</td>\n",
       "      <td>Cafes, Juice Bars &amp; Smoothies, Coffee &amp; Tea, R...</td>\n",
       "      <td>{'Monday': '0:0-0:0', 'Tuesday': '0:0-17:0', '...</td>\n",
       "      <td>False</td>\n",
       "      <td>1</td>\n",
       "      <td>2</td>\n",
       "      <td>True</td>\n",
       "    </tr>\n",
       "  </tbody>\n",
       "</table>\n",
       "<p>2339 rows × 18 columns</p>\n",
       "</div>"
      ],
      "text/plain": [
       "                   business_id                             name  \\\n",
       "20      WKMJwqnfZKsAae75RMP6jA   Roast Coffeehouse and Wine Bar   \n",
       "46      JX4tUpd09YFchLBuI43lGw  Naked Cyber Cafe & Espresso Bar   \n",
       "47      lk9IwjZXqUMqqOhM774DtQ                 Caviar & Bananas   \n",
       "53      cVBxfMC4lp3DnocjYA3FHQ                Paws The Cat Cafe   \n",
       "82      ppFCk9aQkM338Rgwpl2F5A                             Wawa   \n",
       "...                        ...                              ...   \n",
       "150169  izSgTrqebu8bN8ONOCs6cQ                       Oat Bakery   \n",
       "150254  Ld3qgGua7MqrFnZY8AIo0A                     Café Ventana   \n",
       "150261  Y0TWCjiiXlFi2XO2cFrUzQ                 Connexxions Cafe   \n",
       "150319  8n93L-ilMAsvwUatarykSg                      Kitchen Gia   \n",
       "150327  cM6V90ExQD6KMSU3rRB5ZA                Dutch Bros Coffee   \n",
       "\n",
       "                     address           city state postal_code   latitude  \\\n",
       "20       10359 104 Street NW       Edmonton    AB     T5J 1B9  53.546045   \n",
       "46      10303  108 Street NW       Edmonton    AB     T5J 1L7  53.544682   \n",
       "47             2031 Broadway      Nashville    TN       37203  36.148371   \n",
       "53          10588 109 Street       Edmonton    AB     T5H 3B2  53.549633   \n",
       "82          3604 Chestnut St   Philadelphia    PA       19104  39.954573   \n",
       "...                      ...            ...   ...         ...        ...   \n",
       "150169          5 W Haley St  Santa Barbara    CA       93101  34.416548   \n",
       "150254      3919 W Pine Blvd    Saint Louis    MO       63108  38.638030   \n",
       "150261   12644 137 Avenue NW       Edmonton    AB     T5L 4Y5  53.600573   \n",
       "150319        3716 Spruce St   Philadelphia    PA       19104  39.951018   \n",
       "150327   1181 N Milwaukee St          Boise    ID       83704  43.615401   \n",
       "\n",
       "         longitude  stars  review_count  is_open  \\\n",
       "20     -113.499169    4.0            40        0   \n",
       "46     -113.506589    4.0            12        1   \n",
       "47      -86.798895    3.5           159        0   \n",
       "53     -113.508780    5.0            20        0   \n",
       "82      -75.194894    3.0            56        1   \n",
       "...            ...    ...           ...      ...   \n",
       "150169 -119.695626    5.0           123        1   \n",
       "150254  -90.242133    3.5           290        0   \n",
       "150261 -113.540273    4.5            13        0   \n",
       "150319  -75.198240    3.0            22        0   \n",
       "150327 -116.284689    4.0            33        1   \n",
       "\n",
       "                                               attributes  \\\n",
       "20      {'OutdoorSeating': 'False', 'Caters': 'True', ...   \n",
       "46      {'OutdoorSeating': 'False', 'BusinessParking':...   \n",
       "47      {'RestaurantsTakeOut': 'True', 'RestaurantsRes...   \n",
       "53      {'RestaurantsAttire': ''casual'', 'Restaurants...   \n",
       "82      {'Alcohol': 'u'none'', 'RestaurantsGoodForGrou...   \n",
       "...                                                   ...   \n",
       "150169  {'Alcohol': 'u'none'', 'HasTV': 'False', 'Bike...   \n",
       "150254  {'RestaurantsGoodForGroups': 'True', 'Alcohol'...   \n",
       "150261  {'RestaurantsReservations': 'True', 'Alcohol':...   \n",
       "150319  {'RestaurantsGoodForGroups': 'True', 'BikePark...   \n",
       "150327  {'WiFi': ''free'', 'RestaurantsGoodForGroups':...   \n",
       "\n",
       "                                               categories  \\\n",
       "20      Coffee & Tea, Food, Cafes, Bars, Wine Bars, Re...   \n",
       "46      Arts & Entertainment, Music Venues, Internet S...   \n",
       "47      Coffee & Tea, Restaurants, Wine Bars, Bars, Ni...   \n",
       "53      Coffee & Tea, Cafes, Pets, Restaurants, Pet Ad...   \n",
       "82      Restaurants, Automotive, Delis, Gas Stations, ...   \n",
       "...                                                   ...   \n",
       "150169  Bakeries, Vegan, Specialty Food, Food Delivery...   \n",
       "150254  Food, Breakfast & Brunch, Cajun/Creole, Restau...   \n",
       "150261  Hobby Shops, Tabletop Games, Coffee & Tea, Foo...   \n",
       "150319  Coffee & Tea, Food, Sandwiches, American (Trad...   \n",
       "150327  Cafes, Juice Bars & Smoothies, Coffee & Tea, R...   \n",
       "\n",
       "                                                    hours  has_tv  \\\n",
       "20      {'Monday': '8:0-18:0', 'Tuesday': '8:0-18:0', ...   False   \n",
       "46      {'Monday': '11:0-1:0', 'Tuesday': '11:0-1:0', ...   False   \n",
       "47      {'Monday': '7:0-17:0', 'Tuesday': '7:0-17:0', ...   False   \n",
       "53      {'Monday': '0:0-0:0', 'Tuesday': '10:0-21:0', ...   False   \n",
       "82      {'Monday': '0:0-0:0', 'Tuesday': '0:0-0:0', 'W...    True   \n",
       "...                                                   ...     ...   \n",
       "150169  {'Monday': '0:0-0:0', 'Tuesday': '9:0-18:0', '...   False   \n",
       "150254  {'Monday': '7:0-20:0', 'Tuesday': '7:0-20:0', ...   False   \n",
       "150261                                               None    True   \n",
       "150319  {'Monday': '9:0-19:30', 'Tuesday': '9:0-19:30'...    True   \n",
       "150327  {'Monday': '0:0-0:0', 'Tuesday': '0:0-17:0', '...   False   \n",
       "\n",
       "        price_range  wifi  outdoor_seating  \n",
       "20                2     2            False  \n",
       "46                2     2            False  \n",
       "47                2     2             True  \n",
       "53                1     2            False  \n",
       "82                1     2            False  \n",
       "...             ...   ...              ...  \n",
       "150169            1     0            False  \n",
       "150254            2     2             True  \n",
       "150261            2     2            False  \n",
       "150319            2     2             True  \n",
       "150327            1     2             True  \n",
       "\n",
       "[2339 rows x 18 columns]"
      ]
     },
     "execution_count": 31,
     "metadata": {},
     "output_type": "execute_result"
    }
   ],
   "source": [
    "coffee_df"
   ]
  },
  {
   "cell_type": "code",
   "execution_count": 32,
   "metadata": {},
   "outputs": [
    {
     "data": {
      "text/html": [
       "<div>\n",
       "<style scoped>\n",
       "    .dataframe tbody tr th:only-of-type {\n",
       "        vertical-align: middle;\n",
       "    }\n",
       "\n",
       "    .dataframe tbody tr th {\n",
       "        vertical-align: top;\n",
       "    }\n",
       "\n",
       "    .dataframe thead th {\n",
       "        text-align: right;\n",
       "    }\n",
       "</style>\n",
       "<table border=\"1\" class=\"dataframe\">\n",
       "  <thead>\n",
       "    <tr style=\"text-align: right;\">\n",
       "      <th></th>\n",
       "      <th>latitude</th>\n",
       "      <th>longitude</th>\n",
       "      <th>stars</th>\n",
       "      <th>review_count</th>\n",
       "      <th>is_open</th>\n",
       "      <th>has_tv</th>\n",
       "      <th>price_range</th>\n",
       "      <th>wifi</th>\n",
       "      <th>outdoor_seating</th>\n",
       "    </tr>\n",
       "  </thead>\n",
       "  <tbody>\n",
       "    <tr>\n",
       "      <th>latitude</th>\n",
       "      <td>1.000000</td>\n",
       "      <td>-0.226920</td>\n",
       "      <td>-0.033095</td>\n",
       "      <td>-0.100232</td>\n",
       "      <td>-0.025998</td>\n",
       "      <td>-0.012791</td>\n",
       "      <td>0.011368</td>\n",
       "      <td>0.009496</td>\n",
       "      <td>-0.101633</td>\n",
       "    </tr>\n",
       "    <tr>\n",
       "      <th>longitude</th>\n",
       "      <td>-0.226920</td>\n",
       "      <td>1.000000</td>\n",
       "      <td>0.001544</td>\n",
       "      <td>-0.007069</td>\n",
       "      <td>-0.022653</td>\n",
       "      <td>0.033534</td>\n",
       "      <td>-0.057370</td>\n",
       "      <td>0.054452</td>\n",
       "      <td>-0.057491</td>\n",
       "    </tr>\n",
       "    <tr>\n",
       "      <th>stars</th>\n",
       "      <td>-0.033095</td>\n",
       "      <td>0.001544</td>\n",
       "      <td>1.000000</td>\n",
       "      <td>0.227293</td>\n",
       "      <td>-0.209463</td>\n",
       "      <td>-0.415123</td>\n",
       "      <td>0.305046</td>\n",
       "      <td>-0.144131</td>\n",
       "      <td>0.325320</td>\n",
       "    </tr>\n",
       "    <tr>\n",
       "      <th>review_count</th>\n",
       "      <td>-0.100232</td>\n",
       "      <td>-0.007069</td>\n",
       "      <td>0.227293</td>\n",
       "      <td>1.000000</td>\n",
       "      <td>0.088427</td>\n",
       "      <td>-0.142509</td>\n",
       "      <td>0.256771</td>\n",
       "      <td>-0.164072</td>\n",
       "      <td>0.115637</td>\n",
       "    </tr>\n",
       "    <tr>\n",
       "      <th>is_open</th>\n",
       "      <td>-0.025998</td>\n",
       "      <td>-0.022653</td>\n",
       "      <td>-0.209463</td>\n",
       "      <td>0.088427</td>\n",
       "      <td>1.000000</td>\n",
       "      <td>0.250560</td>\n",
       "      <td>-0.056616</td>\n",
       "      <td>0.074997</td>\n",
       "      <td>-0.148654</td>\n",
       "    </tr>\n",
       "    <tr>\n",
       "      <th>has_tv</th>\n",
       "      <td>-0.012791</td>\n",
       "      <td>0.033534</td>\n",
       "      <td>-0.415123</td>\n",
       "      <td>-0.142509</td>\n",
       "      <td>0.250560</td>\n",
       "      <td>1.000000</td>\n",
       "      <td>-0.177371</td>\n",
       "      <td>0.155046</td>\n",
       "      <td>-0.209808</td>\n",
       "    </tr>\n",
       "    <tr>\n",
       "      <th>price_range</th>\n",
       "      <td>0.011368</td>\n",
       "      <td>-0.057370</td>\n",
       "      <td>0.305046</td>\n",
       "      <td>0.256771</td>\n",
       "      <td>-0.056616</td>\n",
       "      <td>-0.177371</td>\n",
       "      <td>1.000000</td>\n",
       "      <td>-0.101209</td>\n",
       "      <td>0.184070</td>\n",
       "    </tr>\n",
       "    <tr>\n",
       "      <th>wifi</th>\n",
       "      <td>0.009496</td>\n",
       "      <td>0.054452</td>\n",
       "      <td>-0.144131</td>\n",
       "      <td>-0.164072</td>\n",
       "      <td>0.074997</td>\n",
       "      <td>0.155046</td>\n",
       "      <td>-0.101209</td>\n",
       "      <td>1.000000</td>\n",
       "      <td>0.047236</td>\n",
       "    </tr>\n",
       "    <tr>\n",
       "      <th>outdoor_seating</th>\n",
       "      <td>-0.101633</td>\n",
       "      <td>-0.057491</td>\n",
       "      <td>0.325320</td>\n",
       "      <td>0.115637</td>\n",
       "      <td>-0.148654</td>\n",
       "      <td>-0.209808</td>\n",
       "      <td>0.184070</td>\n",
       "      <td>0.047236</td>\n",
       "      <td>1.000000</td>\n",
       "    </tr>\n",
       "  </tbody>\n",
       "</table>\n",
       "</div>"
      ],
      "text/plain": [
       "                 latitude  longitude     stars  review_count   is_open  \\\n",
       "latitude         1.000000  -0.226920 -0.033095     -0.100232 -0.025998   \n",
       "longitude       -0.226920   1.000000  0.001544     -0.007069 -0.022653   \n",
       "stars           -0.033095   0.001544  1.000000      0.227293 -0.209463   \n",
       "review_count    -0.100232  -0.007069  0.227293      1.000000  0.088427   \n",
       "is_open         -0.025998  -0.022653 -0.209463      0.088427  1.000000   \n",
       "has_tv          -0.012791   0.033534 -0.415123     -0.142509  0.250560   \n",
       "price_range      0.011368  -0.057370  0.305046      0.256771 -0.056616   \n",
       "wifi             0.009496   0.054452 -0.144131     -0.164072  0.074997   \n",
       "outdoor_seating -0.101633  -0.057491  0.325320      0.115637 -0.148654   \n",
       "\n",
       "                   has_tv  price_range      wifi  outdoor_seating  \n",
       "latitude        -0.012791     0.011368  0.009496        -0.101633  \n",
       "longitude        0.033534    -0.057370  0.054452        -0.057491  \n",
       "stars           -0.415123     0.305046 -0.144131         0.325320  \n",
       "review_count    -0.142509     0.256771 -0.164072         0.115637  \n",
       "is_open          0.250560    -0.056616  0.074997        -0.148654  \n",
       "has_tv           1.000000    -0.177371  0.155046        -0.209808  \n",
       "price_range     -0.177371     1.000000 -0.101209         0.184070  \n",
       "wifi             0.155046    -0.101209  1.000000         0.047236  \n",
       "outdoor_seating -0.209808     0.184070  0.047236         1.000000  "
      ]
     },
     "execution_count": 32,
     "metadata": {},
     "output_type": "execute_result"
    }
   ],
   "source": [
    "pearsoncorr = coffee_df.corr(method='pearson')\n",
    "pearsoncorr"
   ]
  },
  {
   "cell_type": "code",
   "execution_count": 33,
   "metadata": {},
   "outputs": [
    {
     "data": {
      "text/plain": [
       "<matplotlib.axes._subplots.AxesSubplot at 0x7f24c1a83c10>"
      ]
     },
     "execution_count": 33,
     "metadata": {},
     "output_type": "execute_result"
    },
    {
     "data": {
      "image/png": "[encoded data removed]",
      "text/plain": [
       "<Figure size 432x288 with 2 Axes>"
      ]
     },
     "metadata": {
      "needs_background": "light"
     },
     "output_type": "display_data"
    }
   ],
   "source": [
    "import seaborn as sb\n",
    "sb.heatmap(pearsoncorr, \n",
    "            xticklabels=pearsoncorr.columns,\n",
    "            yticklabels=pearsoncorr.columns,\n",
    "            cmap='RdBu_r',\n",
    "            annot=True,\n",
    "            linewidth=0.5)"
   ]
  },
  {
   "cell_type": "code",
   "execution_count": 34,
   "metadata": {},
   "outputs": [],
   "source": [
    "coffee_df_2 = coffee_df[~(coffee_df['hours'].astype(str) == 'None')]"
   ]
  },
  {
   "cell_type": "code",
   "execution_count": 35,
   "metadata": {},
   "outputs": [],
   "source": [
    "hours_df = coffee_df_2['hours'].apply(pd.Series)"
   ]
  },
  {
   "cell_type": "code",
   "execution_count": 36,
   "metadata": {},
   "outputs": [],
   "source": [
    "coffee_df_2=pd.merge(coffee_df_2, hours_df, left_index=True, right_index=True)"
   ]
  },
  {
   "cell_type": "code",
   "execution_count": 37,
   "metadata": {},
   "outputs": [],
   "source": [
    "del coffee_df_2['hours']"
   ]
  },
  {
   "cell_type": "code",
   "execution_count": 38,
   "metadata": {},
   "outputs": [],
   "source": [
    "weekdays = ['Monday','Tuesday','Wednesday','Thursday','Friday','Saturday','Sunday']\n",
    "coffee_df_2[weekdays]=coffee_df_2[weekdays].fillna('Closed')"
   ]
  },
  {
   "cell_type": "code",
   "execution_count": 39,
   "metadata": {},
   "outputs": [],
   "source": [
    "def num_closed_days(row):\n",
    "    tot = 0\n",
    "    for i in weekdays:\n",
    "        if row[i] == 'Closed':\n",
    "            tot = tot+1\n",
    "    return tot\n",
    "coffee_df_2['days_closed'] = coffee_df_2.apply(num_closed_days,axis=1)\n"
   ]
  },
  {
   "cell_type": "code",
   "execution_count": 40,
   "metadata": {},
   "outputs": [
    {
     "data": {
      "text/plain": [
       "array([0, 1, 2, 3, 4, 6, 5])"
      ]
     },
     "execution_count": 40,
     "metadata": {},
     "output_type": "execute_result"
    }
   ],
   "source": [
    "coffee_df_2['days_closed'].unique()"
   ]
  },
  {
   "cell_type": "code",
   "execution_count": 41,
   "metadata": {},
   "outputs": [],
   "source": [
    "def num_24_hour_days(row):\n",
    "    tot = 0\n",
    "    for i in weekdays:\n",
    "        if row[i] == '0:0-0:0':\n",
    "            tot = tot+1\n",
    "    return tot\n",
    "\n",
    "coffee_df_2['24_hour_days'] = coffee_df_2.apply(num_24_hour_days,axis=1)"
   ]
  },
  {
   "cell_type": "code",
   "execution_count": 42,
   "metadata": {},
   "outputs": [
    {
     "data": {
      "text/plain": [
       "array([0, 1, 7, 2, 3, 4, 6])"
      ]
     },
     "execution_count": 42,
     "metadata": {},
     "output_type": "execute_result"
    }
   ],
   "source": [
    "coffee_df_2['24_hour_days'].unique()"
   ]
  },
  {
   "cell_type": "code",
   "execution_count": 43,
   "metadata": {},
   "outputs": [
    {
     "data": {
      "text/html": [
       "<div>\n",
       "<style scoped>\n",
       "    .dataframe tbody tr th:only-of-type {\n",
       "        vertical-align: middle;\n",
       "    }\n",
       "\n",
       "    .dataframe tbody tr th {\n",
       "        vertical-align: top;\n",
       "    }\n",
       "\n",
       "    .dataframe thead th {\n",
       "        text-align: right;\n",
       "    }\n",
       "</style>\n",
       "<table border=\"1\" class=\"dataframe\">\n",
       "  <thead>\n",
       "    <tr style=\"text-align: right;\">\n",
       "      <th></th>\n",
       "      <th>latitude</th>\n",
       "      <th>longitude</th>\n",
       "      <th>stars</th>\n",
       "      <th>review_count</th>\n",
       "      <th>is_open</th>\n",
       "      <th>has_tv</th>\n",
       "      <th>price_range</th>\n",
       "      <th>wifi</th>\n",
       "      <th>outdoor_seating</th>\n",
       "      <th>days_closed</th>\n",
       "      <th>24_hour_days</th>\n",
       "    </tr>\n",
       "  </thead>\n",
       "  <tbody>\n",
       "    <tr>\n",
       "      <th>latitude</th>\n",
       "      <td>1.000000</td>\n",
       "      <td>-0.201357</td>\n",
       "      <td>-0.018391</td>\n",
       "      <td>-0.094196</td>\n",
       "      <td>-0.034971</td>\n",
       "      <td>-0.027290</td>\n",
       "      <td>0.022793</td>\n",
       "      <td>0.014760</td>\n",
       "      <td>-0.080799</td>\n",
       "      <td>-0.026404</td>\n",
       "      <td>-0.079653</td>\n",
       "    </tr>\n",
       "    <tr>\n",
       "      <th>longitude</th>\n",
       "      <td>-0.201357</td>\n",
       "      <td>1.000000</td>\n",
       "      <td>0.000400</td>\n",
       "      <td>-0.011411</td>\n",
       "      <td>-0.017551</td>\n",
       "      <td>0.045116</td>\n",
       "      <td>-0.062915</td>\n",
       "      <td>0.061380</td>\n",
       "      <td>-0.067792</td>\n",
       "      <td>0.013124</td>\n",
       "      <td>0.077831</td>\n",
       "    </tr>\n",
       "    <tr>\n",
       "      <th>stars</th>\n",
       "      <td>-0.018391</td>\n",
       "      <td>0.000400</td>\n",
       "      <td>1.000000</td>\n",
       "      <td>0.229382</td>\n",
       "      <td>-0.206468</td>\n",
       "      <td>-0.427668</td>\n",
       "      <td>0.309827</td>\n",
       "      <td>-0.152285</td>\n",
       "      <td>0.329335</td>\n",
       "      <td>0.286574</td>\n",
       "      <td>-0.451210</td>\n",
       "    </tr>\n",
       "    <tr>\n",
       "      <th>review_count</th>\n",
       "      <td>-0.094196</td>\n",
       "      <td>-0.011411</td>\n",
       "      <td>0.229382</td>\n",
       "      <td>1.000000</td>\n",
       "      <td>0.082001</td>\n",
       "      <td>-0.145707</td>\n",
       "      <td>0.260790</td>\n",
       "      <td>-0.174528</td>\n",
       "      <td>0.113110</td>\n",
       "      <td>-0.009053</td>\n",
       "      <td>-0.131429</td>\n",
       "    </tr>\n",
       "    <tr>\n",
       "      <th>is_open</th>\n",
       "      <td>-0.034971</td>\n",
       "      <td>-0.017551</td>\n",
       "      <td>-0.206468</td>\n",
       "      <td>0.082001</td>\n",
       "      <td>1.000000</td>\n",
       "      <td>0.237557</td>\n",
       "      <td>-0.054737</td>\n",
       "      <td>0.057841</td>\n",
       "      <td>-0.147669</td>\n",
       "      <td>-0.203331</td>\n",
       "      <td>0.237667</td>\n",
       "    </tr>\n",
       "    <tr>\n",
       "      <th>has_tv</th>\n",
       "      <td>-0.027290</td>\n",
       "      <td>0.045116</td>\n",
       "      <td>-0.427668</td>\n",
       "      <td>-0.145707</td>\n",
       "      <td>0.237557</td>\n",
       "      <td>1.000000</td>\n",
       "      <td>-0.185202</td>\n",
       "      <td>0.153410</td>\n",
       "      <td>-0.208840</td>\n",
       "      <td>-0.137733</td>\n",
       "      <td>0.267907</td>\n",
       "    </tr>\n",
       "    <tr>\n",
       "      <th>price_range</th>\n",
       "      <td>0.022793</td>\n",
       "      <td>-0.062915</td>\n",
       "      <td>0.309827</td>\n",
       "      <td>0.260790</td>\n",
       "      <td>-0.054737</td>\n",
       "      <td>-0.185202</td>\n",
       "      <td>1.000000</td>\n",
       "      <td>-0.106729</td>\n",
       "      <td>0.178831</td>\n",
       "      <td>0.132373</td>\n",
       "      <td>-0.225953</td>\n",
       "    </tr>\n",
       "    <tr>\n",
       "      <th>wifi</th>\n",
       "      <td>0.014760</td>\n",
       "      <td>0.061380</td>\n",
       "      <td>-0.152285</td>\n",
       "      <td>-0.174528</td>\n",
       "      <td>0.057841</td>\n",
       "      <td>0.153410</td>\n",
       "      <td>-0.106729</td>\n",
       "      <td>1.000000</td>\n",
       "      <td>0.048173</td>\n",
       "      <td>-0.091380</td>\n",
       "      <td>0.121443</td>\n",
       "    </tr>\n",
       "    <tr>\n",
       "      <th>outdoor_seating</th>\n",
       "      <td>-0.080799</td>\n",
       "      <td>-0.067792</td>\n",
       "      <td>0.329335</td>\n",
       "      <td>0.113110</td>\n",
       "      <td>-0.147669</td>\n",
       "      <td>-0.208840</td>\n",
       "      <td>0.178831</td>\n",
       "      <td>0.048173</td>\n",
       "      <td>1.000000</td>\n",
       "      <td>0.082986</td>\n",
       "      <td>-0.296890</td>\n",
       "    </tr>\n",
       "    <tr>\n",
       "      <th>days_closed</th>\n",
       "      <td>-0.026404</td>\n",
       "      <td>0.013124</td>\n",
       "      <td>0.286574</td>\n",
       "      <td>-0.009053</td>\n",
       "      <td>-0.203331</td>\n",
       "      <td>-0.137733</td>\n",
       "      <td>0.132373</td>\n",
       "      <td>-0.091380</td>\n",
       "      <td>0.082986</td>\n",
       "      <td>1.000000</td>\n",
       "      <td>-0.177118</td>\n",
       "    </tr>\n",
       "    <tr>\n",
       "      <th>24_hour_days</th>\n",
       "      <td>-0.079653</td>\n",
       "      <td>0.077831</td>\n",
       "      <td>-0.451210</td>\n",
       "      <td>-0.131429</td>\n",
       "      <td>0.237667</td>\n",
       "      <td>0.267907</td>\n",
       "      <td>-0.225953</td>\n",
       "      <td>0.121443</td>\n",
       "      <td>-0.296890</td>\n",
       "      <td>-0.177118</td>\n",
       "      <td>1.000000</td>\n",
       "    </tr>\n",
       "  </tbody>\n",
       "</table>\n",
       "</div>"
      ],
      "text/plain": [
       "                 latitude  longitude     stars  review_count   is_open  \\\n",
       "latitude         1.000000  -0.201357 -0.018391     -0.094196 -0.034971   \n",
       "longitude       -0.201357   1.000000  0.000400     -0.011411 -0.017551   \n",
       "stars           -0.018391   0.000400  1.000000      0.229382 -0.206468   \n",
       "review_count    -0.094196  -0.011411  0.229382      1.000000  0.082001   \n",
       "is_open         -0.034971  -0.017551 -0.206468      0.082001  1.000000   \n",
       "has_tv          -0.027290   0.045116 -0.427668     -0.145707  0.237557   \n",
       "price_range      0.022793  -0.062915  0.309827      0.260790 -0.054737   \n",
       "wifi             0.014760   0.061380 -0.152285     -0.174528  0.057841   \n",
       "outdoor_seating -0.080799  -0.067792  0.329335      0.113110 -0.147669   \n",
       "days_closed     -0.026404   0.013124  0.286574     -0.009053 -0.203331   \n",
       "24_hour_days    -0.079653   0.077831 -0.451210     -0.131429  0.237667   \n",
       "\n",
       "                   has_tv  price_range      wifi  outdoor_seating  \\\n",
       "latitude        -0.027290     0.022793  0.014760        -0.080799   \n",
       "longitude        0.045116    -0.062915  0.061380        -0.067792   \n",
       "stars           -0.427668     0.309827 -0.152285         0.329335   \n",
       "review_count    -0.145707     0.260790 -0.174528         0.113110   \n",
       "is_open          0.237557    -0.054737  0.057841        -0.147669   \n",
       "has_tv           1.000000    -0.185202  0.153410        -0.208840   \n",
       "price_range     -0.185202     1.000000 -0.106729         0.178831   \n",
       "wifi             0.153410    -0.106729  1.000000         0.048173   \n",
       "outdoor_seating -0.208840     0.178831  0.048173         1.000000   \n",
       "days_closed     -0.137733     0.132373 -0.091380         0.082986   \n",
       "24_hour_days     0.267907    -0.225953  0.121443        -0.296890   \n",
       "\n",
       "                 days_closed  24_hour_days  \n",
       "latitude           -0.026404     -0.079653  \n",
       "longitude           0.013124      0.077831  \n",
       "stars               0.286574     -0.451210  \n",
       "review_count       -0.009053     -0.131429  \n",
       "is_open            -0.203331      0.237667  \n",
       "has_tv             -0.137733      0.267907  \n",
       "price_range         0.132373     -0.225953  \n",
       "wifi               -0.091380      0.121443  \n",
       "outdoor_seating     0.082986     -0.296890  \n",
       "days_closed         1.000000     -0.177118  \n",
       "24_hour_days       -0.177118      1.000000  "
      ]
     },
     "execution_count": 43,
     "metadata": {},
     "output_type": "execute_result"
    }
   ],
   "source": [
    "pearsoncorr = coffee_df_2.corr(method='pearson')\n",
    "pearsoncorr"
   ]
  },
  {
   "cell_type": "code",
   "execution_count": 44,
   "metadata": {},
   "outputs": [
    {
     "data": {
      "text/plain": [
       "<matplotlib.axes._subplots.AxesSubplot at 0x7f24c1f3a3d0>"
      ]
     },
     "execution_count": 44,
     "metadata": {},
     "output_type": "execute_result"
    },
    {
     "data": {
      "image/png": "[encoded data removed]",
      "text/plain": [
       "<Figure size 432x288 with 2 Axes>"
      ]
     },
     "metadata": {
      "needs_background": "light"
     },
     "output_type": "display_data"
    }
   ],
   "source": [
    "import seaborn as sb\n",
    "sb.heatmap(pearsoncorr, \n",
    "            xticklabels=pearsoncorr.columns,\n",
    "            yticklabels=pearsoncorr.columns,\n",
    "            cmap='RdBu_r',\n",
    "            annot=True,\n",
    "            linewidth=0.5)"
   ]
  },
  {
   "cell_type": "code",
   "execution_count": 45,
   "metadata": {},
   "outputs": [],
   "source": [
    "coffee_df_3=coffee_df_2[['stars','review_count','has_tv','price_range','wifi','outdoor_seating','days_closed','24_hour_days']]"
   ]
  },
  {
   "cell_type": "code",
   "execution_count": 46,
   "metadata": {},
   "outputs": [
    {
     "data": {
      "text/html": [
       "<div>\n",
       "<style scoped>\n",
       "    .dataframe tbody tr th:only-of-type {\n",
       "        vertical-align: middle;\n",
       "    }\n",
       "\n",
       "    .dataframe tbody tr th {\n",
       "        vertical-align: top;\n",
       "    }\n",
       "\n",
       "    .dataframe thead th {\n",
       "        text-align: right;\n",
       "    }\n",
       "</style>\n",
       "<table border=\"1\" class=\"dataframe\">\n",
       "  <thead>\n",
       "    <tr style=\"text-align: right;\">\n",
       "      <th></th>\n",
       "      <th>stars</th>\n",
       "      <th>review_count</th>\n",
       "      <th>has_tv</th>\n",
       "      <th>price_range</th>\n",
       "      <th>wifi</th>\n",
       "      <th>outdoor_seating</th>\n",
       "      <th>days_closed</th>\n",
       "      <th>24_hour_days</th>\n",
       "    </tr>\n",
       "  </thead>\n",
       "  <tbody>\n",
       "    <tr>\n",
       "      <th>stars</th>\n",
       "      <td>1.000000</td>\n",
       "      <td>0.229382</td>\n",
       "      <td>-0.427668</td>\n",
       "      <td>0.309827</td>\n",
       "      <td>-0.152285</td>\n",
       "      <td>0.329335</td>\n",
       "      <td>0.286574</td>\n",
       "      <td>-0.451210</td>\n",
       "    </tr>\n",
       "    <tr>\n",
       "      <th>review_count</th>\n",
       "      <td>0.229382</td>\n",
       "      <td>1.000000</td>\n",
       "      <td>-0.145707</td>\n",
       "      <td>0.260790</td>\n",
       "      <td>-0.174528</td>\n",
       "      <td>0.113110</td>\n",
       "      <td>-0.009053</td>\n",
       "      <td>-0.131429</td>\n",
       "    </tr>\n",
       "    <tr>\n",
       "      <th>has_tv</th>\n",
       "      <td>-0.427668</td>\n",
       "      <td>-0.145707</td>\n",
       "      <td>1.000000</td>\n",
       "      <td>-0.185202</td>\n",
       "      <td>0.153410</td>\n",
       "      <td>-0.208840</td>\n",
       "      <td>-0.137733</td>\n",
       "      <td>0.267907</td>\n",
       "    </tr>\n",
       "    <tr>\n",
       "      <th>price_range</th>\n",
       "      <td>0.309827</td>\n",
       "      <td>0.260790</td>\n",
       "      <td>-0.185202</td>\n",
       "      <td>1.000000</td>\n",
       "      <td>-0.106729</td>\n",
       "      <td>0.178831</td>\n",
       "      <td>0.132373</td>\n",
       "      <td>-0.225953</td>\n",
       "    </tr>\n",
       "    <tr>\n",
       "      <th>wifi</th>\n",
       "      <td>-0.152285</td>\n",
       "      <td>-0.174528</td>\n",
       "      <td>0.153410</td>\n",
       "      <td>-0.106729</td>\n",
       "      <td>1.000000</td>\n",
       "      <td>0.048173</td>\n",
       "      <td>-0.091380</td>\n",
       "      <td>0.121443</td>\n",
       "    </tr>\n",
       "    <tr>\n",
       "      <th>outdoor_seating</th>\n",
       "      <td>0.329335</td>\n",
       "      <td>0.113110</td>\n",
       "      <td>-0.208840</td>\n",
       "      <td>0.178831</td>\n",
       "      <td>0.048173</td>\n",
       "      <td>1.000000</td>\n",
       "      <td>0.082986</td>\n",
       "      <td>-0.296890</td>\n",
       "    </tr>\n",
       "    <tr>\n",
       "      <th>days_closed</th>\n",
       "      <td>0.286574</td>\n",
       "      <td>-0.009053</td>\n",
       "      <td>-0.137733</td>\n",
       "      <td>0.132373</td>\n",
       "      <td>-0.091380</td>\n",
       "      <td>0.082986</td>\n",
       "      <td>1.000000</td>\n",
       "      <td>-0.177118</td>\n",
       "    </tr>\n",
       "    <tr>\n",
       "      <th>24_hour_days</th>\n",
       "      <td>-0.451210</td>\n",
       "      <td>-0.131429</td>\n",
       "      <td>0.267907</td>\n",
       "      <td>-0.225953</td>\n",
       "      <td>0.121443</td>\n",
       "      <td>-0.296890</td>\n",
       "      <td>-0.177118</td>\n",
       "      <td>1.000000</td>\n",
       "    </tr>\n",
       "  </tbody>\n",
       "</table>\n",
       "</div>"
      ],
      "text/plain": [
       "                    stars  review_count    has_tv  price_range      wifi  \\\n",
       "stars            1.000000      0.229382 -0.427668     0.309827 -0.152285   \n",
       "review_count     0.229382      1.000000 -0.145707     0.260790 -0.174528   \n",
       "has_tv          -0.427668     -0.145707  1.000000    -0.185202  0.153410   \n",
       "price_range      0.309827      0.260790 -0.185202     1.000000 -0.106729   \n",
       "wifi            -0.152285     -0.174528  0.153410    -0.106729  1.000000   \n",
       "outdoor_seating  0.329335      0.113110 -0.208840     0.178831  0.048173   \n",
       "days_closed      0.286574     -0.009053 -0.137733     0.132373 -0.091380   \n",
       "24_hour_days    -0.451210     -0.131429  0.267907    -0.225953  0.121443   \n",
       "\n",
       "                 outdoor_seating  days_closed  24_hour_days  \n",
       "stars                   0.329335     0.286574     -0.451210  \n",
       "review_count            0.113110    -0.009053     -0.131429  \n",
       "has_tv                 -0.208840    -0.137733      0.267907  \n",
       "price_range             0.178831     0.132373     -0.225953  \n",
       "wifi                    0.048173    -0.091380      0.121443  \n",
       "outdoor_seating         1.000000     0.082986     -0.296890  \n",
       "days_closed             0.082986     1.000000     -0.177118  \n",
       "24_hour_days           -0.296890    -0.177118      1.000000  "
      ]
     },
     "execution_count": 46,
     "metadata": {},
     "output_type": "execute_result"
    }
   ],
   "source": [
    "pearsoncorr = coffee_df_3.corr(method='pearson')\n",
    "pearsoncorr"
   ]
  },
  {
   "cell_type": "code",
   "execution_count": 47,
   "metadata": {},
   "outputs": [
    {
     "data": {
      "text/plain": [
       "<matplotlib.axes._subplots.AxesSubplot at 0x7f24c1e28d10>"
      ]
     },
     "execution_count": 47,
     "metadata": {},
     "output_type": "execute_result"
    },
    {
     "data": {
      "image/png": "[encoded data removed]",
      "text/plain": [
       "<Figure size 432x288 with 2 Axes>"
      ]
     },
     "metadata": {
      "needs_background": "light"
     },
     "output_type": "display_data"
    }
   ],
   "source": [
    "import seaborn as sb\n",
    "sb.heatmap(pearsoncorr, \n",
    "            xticklabels=pearsoncorr.columns,\n",
    "            yticklabels=pearsoncorr.columns,\n",
    "            cmap='RdBu_r',\n",
    "            annot=True,\n",
    "            linewidth=0.5)"
   ]
  },
  {
   "cell_type": "code",
   "execution_count": null,
   "metadata": {},
   "outputs": [],
   "source": []
  }
 ],
 "metadata": {
  "kernelspec": {
   "display_name": "Python 3",
   "language": "python",
   "name": "python3"
  },
  "language_info": {
   "codemirror_mode": {
    "name": "ipython",
    "version": 3
   },
   "file_extension": ".py",
   "mimetype": "text/x-python",
   "name": "python",
   "nbconvert_exporter": "python",
   "pygments_lexer": "ipython3",
   "version": "3.7.6"
  }
 },
 "nbformat": 4,
 "nbformat_minor": 4
}
